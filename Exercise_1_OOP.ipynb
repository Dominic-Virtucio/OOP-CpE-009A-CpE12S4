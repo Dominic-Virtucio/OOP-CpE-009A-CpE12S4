{
  "nbformat": 4,
  "nbformat_minor": 0,
  "metadata": {
    "colab": {
      "provenance": [],
      "authorship_tag": "ABX9TyMmf3OGcD3REqwrnZLV3sNg",
      "include_colab_link": true
    },
    "kernelspec": {
      "name": "python3",
      "display_name": "Python 3"
    },
    "language_info": {
      "name": "python"
    }
  },
  "cells": [
    {
      "cell_type": "markdown",
      "metadata": {
        "id": "view-in-github",
        "colab_type": "text"
      },
      "source": [
        "<a href=\"https://colab.research.google.com/github/Dominic-Virtucio/OOP-CpE-009A-CpE12S4/blob/main/Exercise_1_OOP.ipynb\" target=\"_parent\"><img src=\"https://colab.research.google.com/assets/colab-badge.svg\" alt=\"Open In Colab\"/></a>"
      ]
    },
    {
      "cell_type": "markdown",
      "source": [
        "#Discussion OOP exercise 1   \n",
        "\n",
        " ⅛ index cyan\n",
        "\n",
        "POP - compiler - c, pascal, basic\n",
        "\n",
        "OOP - interpreter - java, javascript,scala, PHP, python\n",
        "\n",
        "\n",
        "OOP concepts\n",
        "\n",
        "Class - collection of objects. These are data structures that the user defines\n",
        "\n",
        "\n"
      ],
      "metadata": {
        "id": "4AZXHLrjEnZA"
      }
    },
    {
      "cell_type": "markdown",
      "source": [
        "OOP - you need to create yor Graphical User Interface"
      ],
      "metadata": {
        "id": "AOb8lmQ9FCKY"
      }
    },
    {
      "cell_type": "code",
      "source": [
        "#Class constructor\n",
        "class Number:\n",
        "  x=1\n",
        "  print(x)"
      ],
      "metadata": {
        "colab": {
          "base_uri": "https://localhost:8080/"
        },
        "id": "VwKn4aJYFssh",
        "outputId": "2b63ff9b-106b-4e3b-8e2f-2110f6e44ff7"
      },
      "execution_count": null,
      "outputs": [
        {
          "output_type": "stream",
          "name": "stdout",
          "text": [
            "1\n"
          ]
        }
      ]
    },
    {
      "cell_type": "code",
      "source": [
        "#Class constructor\n",
        "class Person: #parent class/super class\n",
        "  def __init__(self,name, age, birthdate): #defining attributes & identity\n",
        "    self.name=name\n",
        "    self.age=age\n",
        "    self.birthdate=birthdate  #defining attributes & identity\n",
        "\n",
        "  def person_attributes(self): #method or fuction constructor\n",
        "    return f\"My name is {self.name} and with an age of {self.age} and born on {self.birthdate}.\" #f string - mas mabilis marepeat yung data\n",
        "\n",
        "class Teacher(Person): #subclass construction\n",
        "  pass\n",
        "class Student(Person): #subclass construction\n",
        "  pass\n",
        "\n",
        "#object installiation\n",
        "person = Person(\"Dominic\", 19, \"March 20, 2005\") #behavior/instance of class\n",
        "print(person.person_attributes())\n",
        "\n",
        "student = Student(\"Yzabelle\", 19, \"December 11, 2004\") #behavior/instance of class\n",
        "print(student.person_attributes())\n",
        "\n",
        "teacher = Teacher(\"Alice\", 25, \"May 10, 1999\")\n",
        "print(teacher.person_attributes())\n",
        "\n"
      ],
      "metadata": {
        "id": "voZjmqbXGJwP",
        "colab": {
          "base_uri": "https://localhost:8080/"
        },
        "outputId": "311aba35-080a-4375-f082-175cf16177ed"
      },
      "execution_count": 60,
      "outputs": [
        {
          "output_type": "stream",
          "name": "stdout",
          "text": [
            "My name is Dominic and with an age of 19 and born on March 20, 2005.\n",
            "My name is Yzabelle and with an age of 19 and born on December 11, 2004.\n",
            "My name is Alice and with an age of 25 and born on May 10, 1999.\n"
          ]
        }
      ]
    },
    {
      "cell_type": "code",
      "source": [
        "print(student.name)\n",
        "print(student.age)\n",
        "print(student.birthdate)\n"
      ],
      "metadata": {
        "colab": {
          "base_uri": "https://localhost:8080/"
        },
        "id": "KDVfHUrJPnpM",
        "outputId": "0851bad5-6d34-4493-e50f-474564d295ab"
      },
      "execution_count": 56,
      "outputs": [
        {
          "output_type": "stream",
          "name": "stdout",
          "text": [
            "Yzabelle\n",
            "19\n",
            "December 11, 2004\n"
          ]
        }
      ]
    },
    {
      "cell_type": "markdown",
      "source": [
        "#Challenging Python Problem:\n",
        "\n",
        "* Create a python program that has the following\n",
        "1. Super class named as Shapes\n",
        "2. Subclasses: Rectangle, Square\n",
        "3. Methods: Perimeter(), Area()\n",
        "4. Object name: rectangle Square\n",
        "5. Inherits the attributes of superclass self.side = side"
      ],
      "metadata": {
        "id": "xQJoUzZgSz6S"
      }
    },
    {
      "cell_type": "code",
      "source": [
        "class Shapes:\n",
        "    def __init__(self, side, side1, side2):\n",
        "        self.side = side\n",
        "        self.side1 = side1\n",
        "        self.side2 = side2\n",
        "\n",
        "    def Perimeter_rectangle(self):\n",
        "      return 2 * (self.side1 + self.side2)\n",
        "\n",
        "    def Area_rectangle(self):\n",
        "      return self.side1 * self.side2\n",
        "\n",
        "    def Perimeter_square(self):\n",
        "      return 4 * self.side\n",
        "\n",
        "    def Area_square(self):\n",
        "      return self.side ** 2\n",
        "\n",
        "class Rectangle(Shapes):\n",
        "  pass\n",
        "\n",
        "class Square(Shapes):\n",
        "  pass\n",
        "\n",
        "rectangle = Rectangle(0,5,7)\n",
        "print(\"The perimeter of rectangle is\", rectangle.Perimeter_rectangle())\n",
        "print(\"The area of rectangle is\", rectangle.Area_rectangle(), \"\\n\")\n",
        "\n",
        "square = Square(9,0,0)\n",
        "print(\"The perimeter of square is\", square.Perimeter_square())\n",
        "print(\"The area of square is\", square.Area_square())"
      ],
      "metadata": {
        "colab": {
          "base_uri": "https://localhost:8080/"
        },
        "id": "xt-VERX1UloC",
        "outputId": "3576a458-6549-450b-aa49-6e18863e0363"
      },
      "execution_count": 100,
      "outputs": [
        {
          "output_type": "stream",
          "name": "stdout",
          "text": [
            "The perimeter of rectangle is 24\n",
            "The area of rectangle is 35 \n",
            "\n",
            "The perimeter of square is 36\n",
            "The area of square is 81\n"
          ]
        }
      ]
    }
  ]
}