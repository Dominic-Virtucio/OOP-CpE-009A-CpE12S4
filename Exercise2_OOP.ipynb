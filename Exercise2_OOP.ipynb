{
  "nbformat": 4,
  "nbformat_minor": 0,
  "metadata": {
    "colab": {
      "provenance": [],
      "authorship_tag": "ABX9TyOof4DfXJH6kn8825e+2wsT",
      "include_colab_link": true
    },
    "kernelspec": {
      "name": "python3",
      "display_name": "Python 3"
    },
    "language_info": {
      "name": "python"
    }
  },
  "cells": [
    {
      "cell_type": "markdown",
      "metadata": {
        "id": "view-in-github",
        "colab_type": "text"
      },
      "source": [
        "<a href=\"https://colab.research.google.com/github/Dominic-Virtucio/OOP-CpE-009A-CpE12S4/blob/main/Exercise2_OOP.ipynb\" target=\"_parent\"><img src=\"https://colab.research.google.com/assets/colab-badge.svg\" alt=\"Open In Colab\"/></a>"
      ]
    },
    {
      "cell_type": "markdown",
      "source": [
        "#Exercise 2 OOP"
      ],
      "metadata": {
        "id": "-M9YVcFtWMgk"
      }
    },
    {
      "cell_type": "markdown",
      "source": [
        "##Encapsulation"
      ],
      "metadata": {
        "id": "c397-XAiWS3F"
      }
    },
    {
      "cell_type": "code",
      "execution_count": 12,
      "metadata": {
        "colab": {
          "base_uri": "https://localhost:8080/"
        },
        "id": "iKkl6slUWGqE",
        "outputId": "228c3722-f81f-45e7-d6bb-6fad319a5dee"
      },
      "outputs": [
        {
          "output_type": "stream",
          "name": "stdout",
          "text": [
            "3\n",
            "4\n",
            "7\n"
          ]
        }
      ],
      "source": [
        "class foo:\n",
        "  def __init__(self, a, b):\n",
        "    self._a = a\n",
        "    self._b = b\n",
        "\n",
        "  def add(self):\n",
        "    return self._a + self._b\n",
        "foo_object = foo(3,4)\n",
        "print(foo_object._a)\n",
        "print(foo_object._b)\n",
        "print(foo_object.add())"
      ]
    },
    {
      "cell_type": "code",
      "source": [
        "#Complete the program by adding object name and\n",
        "#print output variable that display the intance/behavior of every function\n",
        "#Apply encapsulation by typing _ single underscore for private variable\n",
        "class Counter:\n",
        "  def __init__(self):\n",
        "    self.__current = 0\n",
        "  def increment(self):\n",
        "    self.__current += 1\n",
        "\n",
        "  def value(self):\n",
        "    return self.__current\n",
        "  def reset(self):\n",
        "    self.__current = 0\n",
        "\n",
        "counter = Counter()\n",
        "print(\"The initial value is:\", counter.value())\n",
        "counter.increment()\n",
        "counter.increment()\n",
        "print(\"The current value after increment is:\", counter.value())\n",
        "\n",
        "counter.reset()\n",
        "print(\"The current value after reset is:\", counter.value())\n",
        "\n"
      ],
      "metadata": {
        "colab": {
          "base_uri": "https://localhost:8080/"
        },
        "id": "6hyaM8ebZnu7",
        "outputId": "cb2d7a5e-95f9-4ca1-db59-46ed608cc93e"
      },
      "execution_count": 31,
      "outputs": [
        {
          "output_type": "stream",
          "name": "stdout",
          "text": [
            "The initial value is: 0\n",
            "The current value after increment is: 2\n",
            "The current value after reset is: 0\n"
          ]
        }
      ]
    },
    {
      "cell_type": "code",
      "source": [
        "counter.reset()\n",
        "\n",
        "print(counter.value())\n",
        "\n",
        "counter.increment()\n",
        "counter.increment()\n",
        "counter.increment()\n",
        "print(counter.value())\n",
        "\n",
        "counter.increment()\n",
        "counter.increment()\n",
        "counter.increment()\n",
        "print(counter.value())\n",
        "\n",
        "counter.reset()\n",
        "print(counter.value())"
      ],
      "metadata": {
        "colab": {
          "base_uri": "https://localhost:8080/"
        },
        "id": "tPEep48nbzbk",
        "outputId": "c1e74907-c542-488a-96a2-0c7c74b46339"
      },
      "execution_count": 53,
      "outputs": [
        {
          "output_type": "stream",
          "name": "stdout",
          "text": [
            "0\n",
            "3\n",
            "6\n",
            "0\n"
          ]
        }
      ]
    }
  ]
}